{
 "cells": [
  {
   "cell_type": "markdown",
   "metadata": {},
   "source": [
    "### Q#1 Given the Reuters-21578 dataset, please calculate the term frequencies, and output the representation of the document contents as a term-document count matrix."
   ]
  },
  {
   "cell_type": "code",
   "execution_count": 1,
   "metadata": {},
   "outputs": [],
   "source": [
    "import re\n",
    "# function to clear characters that are not necessary\n",
    "def removeTrashChar(string, trash):\n",
    "    for i in trash:\n",
    "        string = string.replace(i, ' ')\n",
    "    return re.sub(' +', ' ', string)"
   ]
  },
  {
   "cell_type": "code",
   "execution_count": 2,
   "metadata": {},
   "outputs": [
    {
     "name": "stdout",
     "output_type": "stream",
     "text": [
      "There are 19043 News Articls\n"
     ]
    }
   ],
   "source": [
    "#data split and reduce\n",
    "data = sc.wholeTextFiles('dataset/reuters/reut2-*')\n",
    "news_articles = data.map(lambda x:x[1]).flatMap(lambda x:x.split('<BODY>')[1:]).map(lambda x:x.split('</BODY>')[0])\\\n",
    "                    .map(lambda x:removeTrashChar(x, '~!@#$%^&*()_+`-=/\\\\,.<>\\'\\\";:{}[]\\n\\t|'))\n",
    "print(\"There are {} News Articls\".format(news_articles.count()))"
   ]
  },
  {
   "cell_type": "code",
   "execution_count": 3,
   "metadata": {},
   "outputs": [
    {
     "name": "stdout",
     "output_type": "stream",
     "text": [
      "There are 48447 distinct words\n"
     ]
    }
   ],
   "source": [
    "#select distinict words from the filtered article above\n",
    "distinct_words = news_articles.flatMap(lambda x:x.split(' ')).distinct() \n",
    "print(\"There are {} distinct words\".format(distinct_words.count()))"
   ]
  },
  {
   "cell_type": "code",
   "execution_count": 4,
   "metadata": {},
   "outputs": [],
   "source": [
    "from pyspark.mllib.linalg.distributed import RowMatrix\n",
    "news_articles_list = news_articles.map(lambda x:x.split(' ')).collect()\n",
    "term_document_count_matrix = RowMatrix(distinct_words.map(lambda x:[article.count(x) for article in news_articles_list]))"
   ]
  },
  {
   "cell_type": "code",
   "execution_count": 5,
   "metadata": {},
   "outputs": [],
   "source": [
    "term_document_count_matrix.rows.coalesce(1).saveAsTextFile('tmp')"
   ]
  },
  {
   "cell_type": "code",
   "execution_count": 7,
   "metadata": {},
   "outputs": [],
   "source": [
    "!mv tmp/part-00000 result/term_document_count_matrix.txt"
   ]
  },
  {
   "cell_type": "markdown",
   "metadata": {},
   "source": [
    "### Both Q#2 & Q#3\n",
    "(2) Implement matrix multiplication by MapReduce. Your program  should be able to output the result in appropriate dimensions.\n",
    "<br>(3) Given the term-document matrix in (1), compute the SVD decomposition of the matrix using MapReduce. Output the resulting eigenvalues and eigenvectors. "
   ]
  },
  {
   "cell_type": "code",
   "execution_count": null,
   "metadata": {},
   "outputs": [],
   "source": [
    "R = 10\n",
    "svd = term_document_count_matrix.computeSVD(R)\n",
    "matrixMultiply = term_document_count_matrix.multiply(svd.V)"
   ]
  },
  {
   "cell_type": "code",
   "execution_count": null,
   "metadata": {},
   "outputs": [],
   "source": [
    "matrixMultiply.rows.coalesce(1).saveAsTextFile('temp_q2')\n",
    "!mv temp_q2/part-00000 result/matrixMultiply.txt\n",
    "#!rm -rf tmp"
   ]
  },
  {
   "cell_type": "code",
   "execution_count": null,
   "metadata": {},
   "outputs": [],
   "source": [
    "V = svd.V.toArray()\n",
    "s = svd.s.toArray()\n",
    "with open('result/svd.txt', 'w') as result:\n",
    "    for i in range(R):\n",
    "        result.write(str(s[i]) + '\\n' + str(V[i]) + '\\n\\n')"
   ]
  },
  {
   "cell_type": "code",
   "execution_count": null,
   "metadata": {},
   "outputs": [],
   "source": []
  }
 ],
 "metadata": {
  "kernelspec": {
   "display_name": "Python 3",
   "language": "python",
   "name": "python3"
  },
  "language_info": {
   "codemirror_mode": {
    "name": "ipython",
    "version": 3
   },
   "file_extension": ".py",
   "mimetype": "text/x-python",
   "name": "python",
   "nbconvert_exporter": "python",
   "pygments_lexer": "ipython3",
   "version": "3.6.4"
  }
 },
 "nbformat": 4,
 "nbformat_minor": 2
}
